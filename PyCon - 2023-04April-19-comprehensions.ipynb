{
 "cells": [
  {
   "cell_type": "markdown",
   "metadata": {},
   "source": [
    "GitHub repo for this course:\n",
    "\n",
    "https://github.com/reuven/PyCon-04April-19-comprehensions"
   ]
  },
  {
   "cell_type": "markdown",
   "metadata": {},
   "source": [
    "# Agenda\n",
    "\n",
    "1. What are comprehensions?\n",
    "2. List comprehensions\n",
    "3. List comprehensions and files\n",
    "4. Set comprehensions\n",
    "5. Dict comprehensions\n",
    "6. Nested comprehensions\n",
    "7. Generator expressions"
   ]
  },
  {
   "cell_type": "code",
   "execution_count": 2,
   "metadata": {},
   "outputs": [
    {
     "data": {
      "text/plain": [
       "[0, 1, 2, 3, 4, 5, 6, 7, 8, 9]"
      ]
     },
     "execution_count": 2,
     "metadata": {},
     "output_type": "execute_result"
    }
   ],
   "source": [
    "# I have a list of integers \n",
    "# I want to create a list of those integers squared\n",
    "\n",
    "numbers = list(range(10))\n",
    "numbers"
   ]
  },
  {
   "cell_type": "code",
   "execution_count": 3,
   "metadata": {},
   "outputs": [
    {
     "data": {
      "text/plain": [
       "[0, 1, 4, 9, 16, 25, 36, 49, 64, 81]"
      ]
     },
     "execution_count": 3,
     "metadata": {},
     "output_type": "execute_result"
    }
   ],
   "source": [
    "output = []\n",
    "\n",
    "for one_number in numbers:\n",
    "    output.append(one_number ** 2)\n",
    "    \n",
    "output    "
   ]
  },
  {
   "cell_type": "code",
   "execution_count": 4,
   "metadata": {},
   "outputs": [
    {
     "data": {
      "text/plain": [
       "[0, 1, 4, 9, 16, 25, 36, 49, 64, 81]"
      ]
     },
     "execution_count": 4,
     "metadata": {},
     "output_type": "execute_result"
    }
   ],
   "source": [
    "# what is another way to do this?\n",
    "# list comprehension\n",
    "\n",
    "[one_number ** 2 for one_number in numbers]"
   ]
  },
  {
   "cell_type": "markdown",
   "metadata": {},
   "source": [
    "# List comprehension\n",
    "\n",
    "Much easier to write (and understand) if we pick it apart\n",
    "and write it on multiple lines.\n",
    "\n",
    "In a comprehension, the *first* thing that runs is the loop, and the second thing is the expression.\n",
    "\n",
    "The result of a list comprehension is a list.  We have created a new list! We can pass it as an argument to a function, or assign it to a variable.\n",
    "\n",
    "The new list is the result of evaluating our expression on every element of the input list.\n",
    "\n",
    "As a result, the output list will have the same number of elements as the input list."
   ]
  },
  {
   "cell_type": "code",
   "execution_count": 5,
   "metadata": {},
   "outputs": [
    {
     "data": {
      "text/plain": [
       "[0, 1, 4, 9, 16, 25, 36, 49, 64, 81]"
      ]
     },
     "execution_count": 5,
     "metadata": {},
     "output_type": "execute_result"
    }
   ],
   "source": [
    "[one_number ** 2             # expression -- any Python expression\n",
    " for one_number in numbers]  # iteration -- any Python loop"
   ]
  },
  {
   "cell_type": "markdown",
   "metadata": {},
   "source": [
    "# When use a loop, and when a comprehension?\n",
    "\n",
    "The big distinction is between getting a new value back and having side effects.\n",
    "\n",
    "Meaning:\n",
    "\n",
    "If you have an existing list, and you want a new list, and you can describe the mapping from the first to the second, then you should use a comprehension.\n",
    "\n",
    "I want the list!\n",
    "\n",
    "But... if you are assigning repeatedly, if you are modifying things repeatedly.. then use a regular `for` loop."
   ]
  },
  {
   "cell_type": "code",
   "execution_count": 6,
   "metadata": {},
   "outputs": [
    {
     "data": {
      "text/plain": [
       "'abcd*ef*ghi'"
      ]
     },
     "execution_count": 6,
     "metadata": {},
     "output_type": "execute_result"
    }
   ],
   "source": [
    "# Let's say that I have a list of strings\n",
    "\n",
    "mylist = ['abcd', 'ef', 'ghi']\n",
    "\n",
    "# I want to have a new string based on mylist with '*' between\n",
    "# the elements\n",
    "\n",
    "'*'.join(mylist)"
   ]
  },
  {
   "cell_type": "code",
   "execution_count": 7,
   "metadata": {},
   "outputs": [
    {
     "ename": "TypeError",
     "evalue": "sequence item 0: expected str instance, int found",
     "output_type": "error",
     "traceback": [
      "\u001b[0;31m---------------------------------------------------------------------------\u001b[0m",
      "\u001b[0;31mTypeError\u001b[0m                                 Traceback (most recent call last)",
      "Cell \u001b[0;32mIn [7], line 5\u001b[0m\n\u001b[1;32m      1\u001b[0m \u001b[38;5;66;03m# what if I have a list of integers?\u001b[39;00m\n\u001b[1;32m      3\u001b[0m mylist \u001b[38;5;241m=\u001b[39m [\u001b[38;5;241m10\u001b[39m, \u001b[38;5;241m20\u001b[39m, \u001b[38;5;241m30\u001b[39m]\n\u001b[0;32m----> 5\u001b[0m \u001b[38;5;124;43m'\u001b[39;49m\u001b[38;5;124;43m*\u001b[39;49m\u001b[38;5;124;43m'\u001b[39;49m\u001b[38;5;241;43m.\u001b[39;49m\u001b[43mjoin\u001b[49m\u001b[43m(\u001b[49m\u001b[43mmylist\u001b[49m\u001b[43m)\u001b[49m\n",
      "\u001b[0;31mTypeError\u001b[0m: sequence item 0: expected str instance, int found"
     ]
    }
   ],
   "source": [
    "# what if I have a list of integers?\n",
    "\n",
    "mylist = [10, 20, 30]\n",
    "\n",
    "'*'.join(mylist)"
   ]
  },
  {
   "cell_type": "code",
   "execution_count": 8,
   "metadata": {},
   "outputs": [
    {
     "data": {
      "text/plain": [
       "['10', '20', '30']"
      ]
     },
     "execution_count": 8,
     "metadata": {},
     "output_type": "execute_result"
    }
   ],
   "source": [
    "# we have: a list of integers\n",
    "# we want: a list of strings\n",
    "# we can convert one int to one string with str()\n",
    "\n",
    "[str(one_item)\n",
    " for one_item in mylist]"
   ]
  },
  {
   "cell_type": "code",
   "execution_count": 9,
   "metadata": {},
   "outputs": [
    {
     "data": {
      "text/plain": [
       "'10*20*30'"
      ]
     },
     "execution_count": 9,
     "metadata": {},
     "output_type": "execute_result"
    }
   ],
   "source": [
    "'*'.join([str(one_item)\n",
    "         for one_item in mylist])"
   ]
  },
  {
   "cell_type": "code",
   "execution_count": 10,
   "metadata": {},
   "outputs": [
    {
     "data": {
      "text/plain": [
       "'This Is A Sample Sentence For My Tutorial'"
      ]
     },
     "execution_count": 10,
     "metadata": {},
     "output_type": "execute_result"
    }
   ],
   "source": [
    "# I have a string, and I want to capitalize the start\n",
    "# of each word\n",
    "\n",
    "s = 'This is a sample sentence for my tutorial'\n",
    "\n",
    "s.title()"
   ]
  },
  {
   "cell_type": "code",
   "execution_count": 11,
   "metadata": {},
   "outputs": [
    {
     "data": {
      "text/plain": [
       "['This', 'Is', 'A', 'Sample', 'Sentence', 'For', 'My', 'Tutorial']"
      ]
     },
     "execution_count": 11,
     "metadata": {},
     "output_type": "execute_result"
    }
   ],
   "source": [
    "# what if str.title didn't exist? Could I still do\n",
    "# something like this?\n",
    "\n",
    "# what if, for example, I were to break the string\n",
    "# into individual words?\n",
    "\n",
    "# I have: a list of strings\n",
    "# I want: a list of strings whose first letters are capitalized\n",
    "# I can use: str.capitalize \n",
    "\n",
    "[one_word.capitalize()\n",
    " for one_word in s.split()]"
   ]
  },
  {
   "cell_type": "code",
   "execution_count": null,
   "metadata": {},
   "outputs": [],
   "source": []
  }
 ],
 "metadata": {
  "kernelspec": {
   "display_name": "Python 3 (ipykernel)",
   "language": "python",
   "name": "python3"
  },
  "language_info": {
   "codemirror_mode": {
    "name": "ipython",
    "version": 3
   },
   "file_extension": ".py",
   "mimetype": "text/x-python",
   "name": "python",
   "nbconvert_exporter": "python",
   "pygments_lexer": "ipython3",
   "version": "3.11.3"
  }
 },
 "nbformat": 4,
 "nbformat_minor": 4
}
