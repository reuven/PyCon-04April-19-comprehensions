{
 "cells": [
  {
   "cell_type": "markdown",
   "metadata": {},
   "source": [
    "GitHub repo for this course:\n",
    "\n",
    "https://github.com/reuven/PyCon-04April-19-comprehensions"
   ]
  },
  {
   "cell_type": "markdown",
   "metadata": {},
   "source": [
    "# Agenda\n",
    "\n",
    "1. What are comprehensions?\n",
    "2. List comprehensions\n",
    "3. List comprehensions and files\n",
    "4. Set comprehensions\n",
    "5. Dict comprehensions\n",
    "6. Nested comprehensions\n",
    "7. Generator expressions"
   ]
  },
  {
   "cell_type": "code",
   "execution_count": 2,
   "metadata": {},
   "outputs": [
    {
     "data": {
      "text/plain": [
       "[0, 1, 2, 3, 4, 5, 6, 7, 8, 9]"
      ]
     },
     "execution_count": 2,
     "metadata": {},
     "output_type": "execute_result"
    }
   ],
   "source": [
    "# I have a list of integers \n",
    "# I want to create a list of those integers squared\n",
    "\n",
    "numbers = list(range(10))\n",
    "numbers"
   ]
  },
  {
   "cell_type": "code",
   "execution_count": 3,
   "metadata": {},
   "outputs": [
    {
     "data": {
      "text/plain": [
       "[0, 1, 4, 9, 16, 25, 36, 49, 64, 81]"
      ]
     },
     "execution_count": 3,
     "metadata": {},
     "output_type": "execute_result"
    }
   ],
   "source": [
    "output = []\n",
    "\n",
    "for one_number in numbers:\n",
    "    output.append(one_number ** 2)\n",
    "    \n",
    "output    "
   ]
  },
  {
   "cell_type": "code",
   "execution_count": 4,
   "metadata": {},
   "outputs": [
    {
     "data": {
      "text/plain": [
       "[0, 1, 4, 9, 16, 25, 36, 49, 64, 81]"
      ]
     },
     "execution_count": 4,
     "metadata": {},
     "output_type": "execute_result"
    }
   ],
   "source": [
    "# what is another way to do this?\n",
    "# list comprehension\n",
    "\n",
    "[one_number ** 2 for one_number in numbers]"
   ]
  },
  {
   "cell_type": "markdown",
   "metadata": {},
   "source": [
    "# List comprehension\n",
    "\n",
    "Much easier to write (and understand) if we pick it apart\n",
    "and write it on multiple lines.\n",
    "\n",
    "In a comprehension, the *first* thing that runs is the loop, and the second thing is the expression.\n",
    "\n",
    "The result of a list comprehension is a list.  We have created a new list! We can pass it as an argument to a function, or assign it to a variable.\n",
    "\n",
    "The new list is the result of evaluating our expression on every element of the input list.\n",
    "\n",
    "As a result, the output list will have the same number of elements as the input list."
   ]
  },
  {
   "cell_type": "code",
   "execution_count": 5,
   "metadata": {},
   "outputs": [
    {
     "data": {
      "text/plain": [
       "[0, 1, 4, 9, 16, 25, 36, 49, 64, 81]"
      ]
     },
     "execution_count": 5,
     "metadata": {},
     "output_type": "execute_result"
    }
   ],
   "source": [
    "[one_number ** 2             # expression -- any Python expression\n",
    " for one_number in numbers]  # iteration -- any Python loop"
   ]
  },
  {
   "cell_type": "markdown",
   "metadata": {},
   "source": [
    "# When use a loop, and when a comprehension?\n",
    "\n",
    "The big distinction is between getting a new value back and having side effects.\n",
    "\n",
    "Meaning:\n",
    "\n",
    "If you have an existing list, and you want a new list, and you can describe the mapping from the first to the second, then you should use a comprehension.\n",
    "\n",
    "I want the list!\n",
    "\n",
    "But... if you are assigning repeatedly, if you are modifying things repeatedly.. then use a regular `for` loop."
   ]
  },
  {
   "cell_type": "code",
   "execution_count": 6,
   "metadata": {},
   "outputs": [
    {
     "data": {
      "text/plain": [
       "'abcd*ef*ghi'"
      ]
     },
     "execution_count": 6,
     "metadata": {},
     "output_type": "execute_result"
    }
   ],
   "source": [
    "# Let's say that I have a list of strings\n",
    "\n",
    "mylist = ['abcd', 'ef', 'ghi']\n",
    "\n",
    "# I want to have a new string based on mylist with '*' between\n",
    "# the elements\n",
    "\n",
    "'*'.join(mylist)"
   ]
  },
  {
   "cell_type": "code",
   "execution_count": 7,
   "metadata": {},
   "outputs": [
    {
     "ename": "TypeError",
     "evalue": "sequence item 0: expected str instance, int found",
     "output_type": "error",
     "traceback": [
      "\u001b[0;31m---------------------------------------------------------------------------\u001b[0m",
      "\u001b[0;31mTypeError\u001b[0m                                 Traceback (most recent call last)",
      "Cell \u001b[0;32mIn [7], line 5\u001b[0m\n\u001b[1;32m      1\u001b[0m \u001b[38;5;66;03m# what if I have a list of integers?\u001b[39;00m\n\u001b[1;32m      3\u001b[0m mylist \u001b[38;5;241m=\u001b[39m [\u001b[38;5;241m10\u001b[39m, \u001b[38;5;241m20\u001b[39m, \u001b[38;5;241m30\u001b[39m]\n\u001b[0;32m----> 5\u001b[0m \u001b[38;5;124;43m'\u001b[39;49m\u001b[38;5;124;43m*\u001b[39;49m\u001b[38;5;124;43m'\u001b[39;49m\u001b[38;5;241;43m.\u001b[39;49m\u001b[43mjoin\u001b[49m\u001b[43m(\u001b[49m\u001b[43mmylist\u001b[49m\u001b[43m)\u001b[49m\n",
      "\u001b[0;31mTypeError\u001b[0m: sequence item 0: expected str instance, int found"
     ]
    }
   ],
   "source": [
    "# what if I have a list of integers?\n",
    "\n",
    "mylist = [10, 20, 30]\n",
    "\n",
    "'*'.join(mylist)"
   ]
  },
  {
   "cell_type": "code",
   "execution_count": 8,
   "metadata": {},
   "outputs": [
    {
     "data": {
      "text/plain": [
       "['10', '20', '30']"
      ]
     },
     "execution_count": 8,
     "metadata": {},
     "output_type": "execute_result"
    }
   ],
   "source": [
    "# we have: a list of integers\n",
    "# we want: a list of strings\n",
    "# we can convert one int to one string with str()\n",
    "\n",
    "[str(one_item)\n",
    " for one_item in mylist]"
   ]
  },
  {
   "cell_type": "code",
   "execution_count": 9,
   "metadata": {},
   "outputs": [
    {
     "data": {
      "text/plain": [
       "'10*20*30'"
      ]
     },
     "execution_count": 9,
     "metadata": {},
     "output_type": "execute_result"
    }
   ],
   "source": [
    "'*'.join([str(one_item)\n",
    "         for one_item in mylist])"
   ]
  },
  {
   "cell_type": "code",
   "execution_count": 10,
   "metadata": {},
   "outputs": [
    {
     "data": {
      "text/plain": [
       "'This Is A Sample Sentence For My Tutorial'"
      ]
     },
     "execution_count": 10,
     "metadata": {},
     "output_type": "execute_result"
    }
   ],
   "source": [
    "# I have a string, and I want to capitalize the start\n",
    "# of each word\n",
    "\n",
    "s = 'This is a sample sentence for my tutorial'\n",
    "\n",
    "s.title()"
   ]
  },
  {
   "cell_type": "code",
   "execution_count": 11,
   "metadata": {},
   "outputs": [
    {
     "data": {
      "text/plain": [
       "['This', 'Is', 'A', 'Sample', 'Sentence', 'For', 'My', 'Tutorial']"
      ]
     },
     "execution_count": 11,
     "metadata": {},
     "output_type": "execute_result"
    }
   ],
   "source": [
    "# what if str.title didn't exist? Could I still do\n",
    "# something like this?\n",
    "\n",
    "# what if, for example, I were to break the string\n",
    "# into individual words?\n",
    "\n",
    "# I have: a list of strings\n",
    "# I want: a list of strings whose first letters are capitalized\n",
    "# I can use: str.capitalize \n",
    "\n",
    "[one_word.capitalize()\n",
    " for one_word in s.split()]"
   ]
  },
  {
   "cell_type": "code",
   "execution_count": 12,
   "metadata": {},
   "outputs": [
    {
     "data": {
      "text/plain": [
       "'This Is A Sample Sentence For My Tutorial'"
      ]
     },
     "execution_count": 12,
     "metadata": {},
     "output_type": "execute_result"
    }
   ],
   "source": [
    "' '.join([one_word.capitalize()\n",
    "         for one_word in s.split()])"
   ]
  },
  {
   "cell_type": "markdown",
   "metadata": {},
   "source": [
    "# Exercises:\n",
    "\n",
    "1. Ask the user to enter a string containing numbers, separated by spaces. Add those numbers together (as integers), and print the result.  It's OK to use the builtin `sum` function.\n",
    "\n",
    "2. Ask the user to enter a string, and print the length of the string, except for whitespace. It's *not* OK to use `str.replace`.\n"
   ]
  },
  {
   "cell_type": "code",
   "execution_count": 13,
   "metadata": {},
   "outputs": [
    {
     "name": "stdout",
     "output_type": "stream",
     "text": [
      "Enter numbers, separated by whitespace: 10 20 30 40 45\n"
     ]
    }
   ],
   "source": [
    "s = input('Enter numbers, separated by whitespace: ').strip()"
   ]
  },
  {
   "cell_type": "code",
   "execution_count": 14,
   "metadata": {},
   "outputs": [
    {
     "data": {
      "text/plain": [
       "'10 20 30 40 45'"
      ]
     },
     "execution_count": 14,
     "metadata": {},
     "output_type": "execute_result"
    }
   ],
   "source": [
    "s"
   ]
  },
  {
   "cell_type": "code",
   "execution_count": 15,
   "metadata": {},
   "outputs": [
    {
     "ename": "TypeError",
     "evalue": "unsupported operand type(s) for +: 'int' and 'str'",
     "output_type": "error",
     "traceback": [
      "\u001b[0;31m---------------------------------------------------------------------------\u001b[0m",
      "\u001b[0;31mTypeError\u001b[0m                                 Traceback (most recent call last)",
      "Cell \u001b[0;32mIn [15], line 1\u001b[0m\n\u001b[0;32m----> 1\u001b[0m \u001b[38;5;28;43msum\u001b[39;49m\u001b[43m(\u001b[49m\u001b[43ms\u001b[49m\u001b[43m)\u001b[49m\n",
      "\u001b[0;31mTypeError\u001b[0m: unsupported operand type(s) for +: 'int' and 'str'"
     ]
    }
   ],
   "source": [
    "sum(s)"
   ]
  },
  {
   "cell_type": "code",
   "execution_count": 16,
   "metadata": {},
   "outputs": [
    {
     "data": {
      "text/plain": [
       "[10, 20, 30, 40, 45]"
      ]
     },
     "execution_count": 16,
     "metadata": {},
     "output_type": "execute_result"
    }
   ],
   "source": [
    "# what I have: a list of strings, containing digits\n",
    "# what I want: the sum of the integers in that string\n",
    "# I can transform one to the other with int\n",
    "\n",
    "[int(one_item)\n",
    "for one_item in s.split()]"
   ]
  },
  {
   "cell_type": "code",
   "execution_count": 17,
   "metadata": {},
   "outputs": [
    {
     "data": {
      "text/plain": [
       "145"
      ]
     },
     "execution_count": 17,
     "metadata": {},
     "output_type": "execute_result"
    }
   ],
   "source": [
    "sum([int(one_item)\n",
    "    for one_item in s.split()])"
   ]
  },
  {
   "cell_type": "code",
   "execution_count": 18,
   "metadata": {},
   "outputs": [
    {
     "ename": "ValueError",
     "evalue": "invalid literal for int() with base 10: ' '",
     "output_type": "error",
     "traceback": [
      "\u001b[0;31m---------------------------------------------------------------------------\u001b[0m",
      "\u001b[0;31mValueError\u001b[0m                                Traceback (most recent call last)",
      "Cell \u001b[0;32mIn [18], line 1\u001b[0m\n\u001b[0;32m----> 1\u001b[0m \u001b[38;5;28msum\u001b[39m(\u001b[43m[\u001b[49m\u001b[38;5;28;43mint\u001b[39;49m\u001b[43m(\u001b[49m\u001b[43mone_item\u001b[49m\u001b[43m)\u001b[49m\n\u001b[1;32m      2\u001b[0m \u001b[43m    \u001b[49m\u001b[38;5;28;43;01mfor\u001b[39;49;00m\u001b[43m \u001b[49m\u001b[43mone_item\u001b[49m\u001b[43m \u001b[49m\u001b[38;5;129;43;01min\u001b[39;49;00m\u001b[43m \u001b[49m\u001b[43ms\u001b[49m\u001b[43m]\u001b[49m)\n",
      "Cell \u001b[0;32mIn [18], line 1\u001b[0m, in \u001b[0;36m<listcomp>\u001b[0;34m(.0)\u001b[0m\n\u001b[0;32m----> 1\u001b[0m \u001b[38;5;28msum\u001b[39m([\u001b[38;5;28;43mint\u001b[39;49m\u001b[43m(\u001b[49m\u001b[43mone_item\u001b[49m\u001b[43m)\u001b[49m\n\u001b[1;32m      2\u001b[0m     \u001b[38;5;28;01mfor\u001b[39;00m one_item \u001b[38;5;129;01min\u001b[39;00m s])\n",
      "\u001b[0;31mValueError\u001b[0m: invalid literal for int() with base 10: ' '"
     ]
    }
   ],
   "source": [
    "sum([int(one_item)\n",
    "    for one_item in s])"
   ]
  },
  {
   "cell_type": "code",
   "execution_count": 19,
   "metadata": {},
   "outputs": [
    {
     "name": "stdout",
     "output_type": "stream",
     "text": [
      "Enter a sentence: this is a test sentence\n"
     ]
    },
    {
     "data": {
      "text/plain": [
       "23"
      ]
     },
     "execution_count": 19,
     "metadata": {},
     "output_type": "execute_result"
    }
   ],
   "source": [
    "# find the lengths of the words (not the whitespace)\n",
    "# in the user's input\n",
    "\n",
    "s = input('Enter a sentence: ').strip()\n",
    "\n",
    "len(s)  # how many characters in the entire sentence?"
   ]
  },
  {
   "cell_type": "code",
   "execution_count": 22,
   "metadata": {},
   "outputs": [
    {
     "data": {
      "text/plain": [
       "19"
      ]
     },
     "execution_count": 22,
     "metadata": {},
     "output_type": "execute_result"
    }
   ],
   "source": [
    "# how long is this, if we ignore the whitespace?\n",
    "\n",
    "# if I use s.split(), I get a list of strings\n",
    "# without any whitespace\n",
    "\n",
    "# I have: a list of strings\n",
    "# I want: the sum of their lengths\n",
    "# I can apply: len\n",
    "\n",
    "sum([len(one_word)\n",
    "    for one_word in s.split()])"
   ]
  },
  {
   "cell_type": "code",
   "execution_count": 23,
   "metadata": {},
   "outputs": [
    {
     "data": {
      "text/plain": [
       "'a    b    c'"
      ]
     },
     "execution_count": 23,
     "metadata": {},
     "output_type": "execute_result"
    }
   ],
   "source": [
    "s = '    a    b    c     '\n",
    "\n",
    "s.strip()"
   ]
  },
  {
   "cell_type": "code",
   "execution_count": 25,
   "metadata": {},
   "outputs": [
    {
     "data": {
      "text/plain": [
       "[10, 20, 30]"
      ]
     },
     "execution_count": 25,
     "metadata": {},
     "output_type": "execute_result"
    }
   ],
   "source": [
    "s = '10 20 30'\n",
    "\n",
    "[int(one_item)             # expression --  SELECT\n",
    "for one_item in s.split()] # iteration  --  FROM"
   ]
  },
  {
   "cell_type": "code",
   "execution_count": 26,
   "metadata": {},
   "outputs": [
    {
     "name": "stdout",
     "output_type": "stream",
     "text": [
      "*this*\n",
      "*is*\n",
      "*fantastic*\n"
     ]
    },
    {
     "data": {
      "text/plain": [
       "[None, None, None]"
      ]
     },
     "execution_count": 26,
     "metadata": {},
     "output_type": "execute_result"
    }
   ],
   "source": [
    "# I have a string with words\n",
    "# I want to print each word with stars around it!\n",
    "\n",
    "s = 'this is fantastic'\n",
    "\n",
    "[print(f'*{one_word}*')\n",
    "for one_word in s.split()]\n"
   ]
  },
  {
   "cell_type": "markdown",
   "metadata": {},
   "source": [
    "The list that we get back from a comprehension contains the values that the expression returned.\n",
    "\n",
    "`print` always returns `None`, no matter what you print.\n",
    "\n",
    "Here, it printed on the screen, but it returned `None`, which affected our output comprehension rather dramatically."
   ]
  },
  {
   "cell_type": "code",
   "execution_count": 27,
   "metadata": {},
   "outputs": [
    {
     "data": {
      "text/plain": [
       "['# This is a comment\\n',\n",
       " '# You should ignore me\\n',\n",
       " 'root:x:0:0:root:/root:/bin/bash\\n',\n",
       " 'daemon:x:1:1:daemon:/usr/sbin:/usr/sbin/nologin\\n',\n",
       " 'bin:x:2:2:bin:/bin:/usr/sbin/nologin\\n',\n",
       " 'sys:x:3:3:sys:/dev:/usr/sbin/nologin\\n',\n",
       " 'sync:x:4:65534:sync:/bin:/bin/sync\\n',\n",
       " 'games:x:5:60:games:/usr/games:/usr/sbin/nologin\\n',\n",
       " 'man:x:6:12:man:/var/cache/man:/usr/sbin/nologin\\n',\n",
       " 'lp:x:7:7:lp:/var/spool/lpd:/usr/sbin/nologin\\n',\n",
       " 'mail:x:8:8:mail:/var/mail:/usr/sbin/nologin\\n',\n",
       " '\\n',\n",
       " '\\n',\n",
       " '\\n',\n",
       " 'news:x:9:9:news:/var/spool/news:/usr/sbin/nologin\\n',\n",
       " 'uucp:x:10:10:uucp:/var/spool/uucp:/usr/sbin/nologin\\n',\n",
       " 'proxy:x:13:13:proxy:/bin:/usr/sbin/nologin\\n',\n",
       " 'www-data:x:33:33:www-data:/var/www:/usr/sbin/nologin\\n',\n",
       " 'backup:x:34:34:backup:/var/backups:/usr/sbin/nologin\\n',\n",
       " 'list:x:38:38:Mailing List Manager:/var/list:/usr/sbin/nologin\\n',\n",
       " 'irc:x:39:39:ircd:/var/run/ircd:/usr/sbin/nologin\\n',\n",
       " 'gnats:x:41:41:Gnats Bug-Reporting System (admin):/var/lib/gnats:/usr/sbin/nologin\\n',\n",
       " '\\n',\n",
       " 'nobody:x:65534:65534:nobody:/nonexistent:/usr/sbin/nologin\\n',\n",
       " 'syslog:x:101:104::/home/syslog:/bin/false\\n',\n",
       " 'messagebus:x:102:106::/var/run/dbus:/bin/false\\n',\n",
       " 'landscape:x:103:109::/var/lib/landscape:/bin/false\\n',\n",
       " 'jci:x:955:955::/home/jci:/bin/bash\\n',\n",
       " 'sshd:x:104:65534::/var/run/sshd:/usr/sbin/nologin\\n',\n",
       " 'user:x:1000:1000:user,,,:/home/user:/bin/bash\\n',\n",
       " 'reuven:x:1001:1001:Reuven M. Lerner,,,:/home/reuven:/bin/bash\\n',\n",
       " 'postfix:x:105:113::/var/spool/postfix:/bin/false\\n',\n",
       " 'colord:x:106:116:colord colour management daemon,,,:/var/lib/colord:/bin/false\\n',\n",
       " 'postgres:x:107:117:PostgreSQL administrator,,,:/var/lib/postgresql:/bin/bash\\n',\n",
       " 'dovecot:x:108:119:Dovecot mail server,,,:/usr/lib/dovecot:/bin/false\\n',\n",
       " 'dovenull:x:109:120:Dovecot login user,,,:/nonexistent:/bin/false\\n',\n",
       " 'postgrey:x:110:121::/var/lib/postgrey:/bin/false\\n',\n",
       " 'debian-spamd:x:111:122::/var/lib/spamassassin:/bin/sh\\n',\n",
       " 'memcache:x:113:124:Memcached,,,:/nonexistent:/bin/false\\n',\n",
       " 'genadi:x:1002:1003:Genadi Reznichenko,,,:/home/genadi:/bin/bash\\n',\n",
       " 'shira:x:1003:1004:Shira Friedman,,,:/home/shira:/bin/bash\\n',\n",
       " 'atara:x:1004:1005:Atara Lerner-Friedman,,,:/home/atara:/bin/bash\\n',\n",
       " 'shikma:x:1005:1006:Shikma Lerner-Friedman,,,:/home/shikma:/bin/bash\\n',\n",
       " 'amotz:x:1006:1007:Amotz Lerner-Friedman,,,:/home/amotz:/bin/bash\\n',\n",
       " 'mysql:x:114:125:MySQL Server,,,:/nonexistent:/bin/false\\n',\n",
       " 'clamav:x:115:126::/var/lib/clamav:/bin/false\\n',\n",
       " 'amavis:x:116:127:AMaViS system user,,,:/var/lib/amavis:/bin/sh\\n',\n",
       " 'opendkim:x:117:128::/var/run/opendkim:/bin/false\\n',\n",
       " 'gitlab-redis:x:999:1009::/var/opt/gitlab/redis:/bin/nologin\\n',\n",
       " 'gitlab-psql:x:998:1010::/var/opt/gitlab/postgresql:/bin/sh\\n',\n",
       " 'git:x:1007:1008:GitLab,,,:/home/git:/bin/bash\\n',\n",
       " 'opendmarc:x:118:129::/var/run/opendmarc:/bin/false\\n',\n",
       " 'dkim-milter-python:x:119:130::/var/run/dkim-milter-python:/bin/false\\n',\n",
       " 'deploy:x:1008:1011:Deploy,,,:/home/deploy:/bin/bash\\n',\n",
       " 'redis:x:112:123:redis server,,,:/var/lib/redis:/bin/false\\n']"
      ]
     },
     "execution_count": 27,
     "metadata": {},
     "output_type": "execute_result"
    }
   ],
   "source": [
    "# how about iterating over files?\n",
    "\n",
    "[one_line\n",
    " for one_line in open('linux-etc-passwd.txt')]"
   ]
  },
  {
   "cell_type": "code",
   "execution_count": 28,
   "metadata": {},
   "outputs": [
    {
     "data": {
      "text/plain": [
       "['# This is a comment\\n',\n",
       " '# You should ignore me\\n',\n",
       " 'root',\n",
       " 'daemon',\n",
       " 'bin',\n",
       " 'sys',\n",
       " 'sync',\n",
       " 'games',\n",
       " 'man',\n",
       " 'lp',\n",
       " 'mail',\n",
       " '\\n',\n",
       " '\\n',\n",
       " '\\n',\n",
       " 'news',\n",
       " 'uucp',\n",
       " 'proxy',\n",
       " 'www-data',\n",
       " 'backup',\n",
       " 'list',\n",
       " 'irc',\n",
       " 'gnats',\n",
       " '\\n',\n",
       " 'nobody',\n",
       " 'syslog',\n",
       " 'messagebus',\n",
       " 'landscape',\n",
       " 'jci',\n",
       " 'sshd',\n",
       " 'user',\n",
       " 'reuven',\n",
       " 'postfix',\n",
       " 'colord',\n",
       " 'postgres',\n",
       " 'dovecot',\n",
       " 'dovenull',\n",
       " 'postgrey',\n",
       " 'debian-spamd',\n",
       " 'memcache',\n",
       " 'genadi',\n",
       " 'shira',\n",
       " 'atara',\n",
       " 'shikma',\n",
       " 'amotz',\n",
       " 'mysql',\n",
       " 'clamav',\n",
       " 'amavis',\n",
       " 'opendkim',\n",
       " 'gitlab-redis',\n",
       " 'gitlab-psql',\n",
       " 'git',\n",
       " 'opendmarc',\n",
       " 'dkim-milter-python',\n",
       " 'deploy',\n",
       " 'redis']"
      ]
     },
     "execution_count": 28,
     "metadata": {},
     "output_type": "execute_result"
    }
   ],
   "source": [
    "# Can I get the usernames from this passwd file?\n",
    "\n",
    "# each record contains fields\n",
    "# fields are separated by ':'\n",
    "# the first field is the username\n",
    "\n",
    "[one_line.split(':')[0]\n",
    " for one_line in open('linux-etc-passwd.txt')]"
   ]
  },
  {
   "cell_type": "code",
   "execution_count": 29,
   "metadata": {},
   "outputs": [
    {
     "data": {
      "text/plain": [
       "['root',\n",
       " 'daemon',\n",
       " 'bin',\n",
       " 'sys',\n",
       " 'sync',\n",
       " 'games',\n",
       " 'man',\n",
       " 'lp',\n",
       " 'mail',\n",
       " 'news',\n",
       " 'uucp',\n",
       " 'proxy',\n",
       " 'www-data',\n",
       " 'backup',\n",
       " 'list',\n",
       " 'irc',\n",
       " 'gnats',\n",
       " 'nobody',\n",
       " 'syslog',\n",
       " 'messagebus',\n",
       " 'landscape',\n",
       " 'jci',\n",
       " 'sshd',\n",
       " 'user',\n",
       " 'reuven',\n",
       " 'postfix',\n",
       " 'colord',\n",
       " 'postgres',\n",
       " 'dovecot',\n",
       " 'dovenull',\n",
       " 'postgrey',\n",
       " 'debian-spamd',\n",
       " 'memcache',\n",
       " 'genadi',\n",
       " 'shira',\n",
       " 'atara',\n",
       " 'shikma',\n",
       " 'amotz',\n",
       " 'mysql',\n",
       " 'clamav',\n",
       " 'amavis',\n",
       " 'opendkim',\n",
       " 'gitlab-redis',\n",
       " 'gitlab-psql',\n",
       " 'git',\n",
       " 'opendmarc',\n",
       " 'dkim-milter-python',\n",
       " 'deploy',\n",
       " 'redis']"
      ]
     },
     "execution_count": 29,
     "metadata": {},
     "output_type": "execute_result"
    }
   ],
   "source": [
    "[one_line.split(':')[0]       # expression -- SELECT\n",
    " for one_line in open('linux-etc-passwd.txt')  # iteration -- FROM\n",
    " if ':' in one_line  ]       # condition -- WHERE"
   ]
  },
  {
   "cell_type": "code",
   "execution_count": 30,
   "metadata": {},
   "outputs": [
    {
     "name": "stdout",
     "output_type": "stream",
     "text": [
      "5\r\n",
      "\t10     \r\n",
      "\t20\r\n",
      "  \t3\r\n",
      "\t\t   \t20        \r\n",
      "\r\n",
      " 25\r\n"
     ]
    }
   ],
   "source": [
    "!cat nums.txt"
   ]
  },
  {
   "cell_type": "markdown",
   "metadata": {},
   "source": [
    "# Exercise: Sum numbers\n",
    "\n",
    "Use a comprehension to read through `nums.txt`, and sum the numbers it contains.\n",
    "\n",
    "Each line of the file contains either zero integers or one integers.  The integer might well have whitespace before or after it."
   ]
  },
  {
   "cell_type": "code",
   "execution_count": 33,
   "metadata": {},
   "outputs": [
    {
     "ename": "ValueError",
     "evalue": "invalid literal for int() with base 10: ''",
     "output_type": "error",
     "traceback": [
      "\u001b[0;31m---------------------------------------------------------------------------\u001b[0m",
      "\u001b[0;31mValueError\u001b[0m                                Traceback (most recent call last)",
      "Cell \u001b[0;32mIn [33], line 5\u001b[0m\n\u001b[1;32m      1\u001b[0m \u001b[38;5;66;03m# I have: a file whose lines (strings) contain numbers\u001b[39;00m\n\u001b[1;32m      2\u001b[0m \u001b[38;5;66;03m# I want: a list of numbers\u001b[39;00m\n\u001b[1;32m      3\u001b[0m \u001b[38;5;66;03m# transform from a string to an int with int()\u001b[39;00m\n\u001b[0;32m----> 5\u001b[0m \u001b[43m[\u001b[49m\u001b[38;5;28;43mint\u001b[39;49m\u001b[43m(\u001b[49m\u001b[43mone_line\u001b[49m\u001b[38;5;241;43m.\u001b[39;49m\u001b[43mstrip\u001b[49m\u001b[43m(\u001b[49m\u001b[43m)\u001b[49m\u001b[43m)\u001b[49m\n\u001b[1;32m      6\u001b[0m \u001b[43m \u001b[49m\u001b[38;5;28;43;01mfor\u001b[39;49;00m\u001b[43m \u001b[49m\u001b[43mone_line\u001b[49m\u001b[43m \u001b[49m\u001b[38;5;129;43;01min\u001b[39;49;00m\u001b[43m \u001b[49m\u001b[38;5;28;43mopen\u001b[39;49m\u001b[43m(\u001b[49m\u001b[38;5;124;43m'\u001b[39;49m\u001b[38;5;124;43mnums.txt\u001b[39;49m\u001b[38;5;124;43m'\u001b[39;49m\u001b[43m)\u001b[49m\u001b[43m]\u001b[49m\n",
      "Cell \u001b[0;32mIn [33], line 5\u001b[0m, in \u001b[0;36m<listcomp>\u001b[0;34m(.0)\u001b[0m\n\u001b[1;32m      1\u001b[0m \u001b[38;5;66;03m# I have: a file whose lines (strings) contain numbers\u001b[39;00m\n\u001b[1;32m      2\u001b[0m \u001b[38;5;66;03m# I want: a list of numbers\u001b[39;00m\n\u001b[1;32m      3\u001b[0m \u001b[38;5;66;03m# transform from a string to an int with int()\u001b[39;00m\n\u001b[0;32m----> 5\u001b[0m [\u001b[38;5;28;43mint\u001b[39;49m\u001b[43m(\u001b[49m\u001b[43mone_line\u001b[49m\u001b[38;5;241;43m.\u001b[39;49m\u001b[43mstrip\u001b[49m\u001b[43m(\u001b[49m\u001b[43m)\u001b[49m\u001b[43m)\u001b[49m\n\u001b[1;32m      6\u001b[0m  \u001b[38;5;28;01mfor\u001b[39;00m one_line \u001b[38;5;129;01min\u001b[39;00m \u001b[38;5;28mopen\u001b[39m(\u001b[38;5;124m'\u001b[39m\u001b[38;5;124mnums.txt\u001b[39m\u001b[38;5;124m'\u001b[39m)]\n",
      "\u001b[0;31mValueError\u001b[0m: invalid literal for int() with base 10: ''"
     ]
    }
   ],
   "source": [
    "# I have: a file whose lines (strings) contain numbers\n",
    "# I want: a list of numbers\n",
    "# transform from a string to an int with int()\n",
    "\n",
    "[int(one_line.strip())\n",
    " for one_line in open('nums.txt')]"
   ]
  },
  {
   "cell_type": "code",
   "execution_count": 34,
   "metadata": {},
   "outputs": [
    {
     "data": {
      "text/plain": [
       "5"
      ]
     },
     "execution_count": 34,
     "metadata": {},
     "output_type": "execute_result"
    }
   ],
   "source": [
    "int('5')"
   ]
  },
  {
   "cell_type": "code",
   "execution_count": 35,
   "metadata": {},
   "outputs": [
    {
     "data": {
      "text/plain": [
       "5"
      ]
     },
     "execution_count": 35,
     "metadata": {},
     "output_type": "execute_result"
    }
   ],
   "source": [
    "int('    5      ')"
   ]
  },
  {
   "cell_type": "code",
   "execution_count": 36,
   "metadata": {},
   "outputs": [
    {
     "ename": "ValueError",
     "evalue": "invalid literal for int() with base 10: '    '",
     "output_type": "error",
     "traceback": [
      "\u001b[0;31m---------------------------------------------------------------------------\u001b[0m",
      "\u001b[0;31mValueError\u001b[0m                                Traceback (most recent call last)",
      "Cell \u001b[0;32mIn [36], line 1\u001b[0m\n\u001b[0;32m----> 1\u001b[0m \u001b[38;5;28;43mint\u001b[39;49m\u001b[43m(\u001b[49m\u001b[38;5;124;43m'\u001b[39;49m\u001b[38;5;124;43m    \u001b[39;49m\u001b[38;5;124;43m'\u001b[39;49m\u001b[43m)\u001b[49m\n",
      "\u001b[0;31mValueError\u001b[0m: invalid literal for int() with base 10: '    '"
     ]
    }
   ],
   "source": [
    "int('    ')"
   ]
  },
  {
   "cell_type": "code",
   "execution_count": 37,
   "metadata": {},
   "outputs": [
    {
     "ename": "ValueError",
     "evalue": "invalid literal for int() with base 10: ''",
     "output_type": "error",
     "traceback": [
      "\u001b[0;31m---------------------------------------------------------------------------\u001b[0m",
      "\u001b[0;31mValueError\u001b[0m                                Traceback (most recent call last)",
      "Cell \u001b[0;32mIn [37], line 1\u001b[0m\n\u001b[0;32m----> 1\u001b[0m \u001b[38;5;28;43mint\u001b[39;49m\u001b[43m(\u001b[49m\u001b[38;5;124;43m'\u001b[39;49m\u001b[38;5;124;43m'\u001b[39;49m\u001b[43m)\u001b[49m\n",
      "\u001b[0;31mValueError\u001b[0m: invalid literal for int() with base 10: ''"
     ]
    }
   ],
   "source": [
    "int('')"
   ]
  },
  {
   "cell_type": "code",
   "execution_count": 40,
   "metadata": {},
   "outputs": [
    {
     "data": {
      "text/plain": [
       "83"
      ]
     },
     "execution_count": 40,
     "metadata": {},
     "output_type": "execute_result"
    }
   ],
   "source": [
    "# add a condition\n",
    "\n",
    "sum([int(one_line)\n",
    " for one_line in open('nums.txt')\n",
    " if one_line.strip()])   # just check that the line isn't empty"
   ]
  },
  {
   "cell_type": "code",
   "execution_count": 41,
   "metadata": {},
   "outputs": [
    {
     "data": {
      "text/plain": [
       "83"
      ]
     },
     "execution_count": 41,
     "metadata": {},
     "output_type": "execute_result"
    }
   ],
   "source": [
    "sum([int(one_line)\n",
    " for one_line in open('nums.txt')\n",
    " if one_line.strip().isdigit()])   # just check that the line isn't empty"
   ]
  },
  {
   "cell_type": "code",
   "execution_count": 43,
   "metadata": {},
   "outputs": [
    {
     "data": {
      "text/plain": [
       "3"
      ]
     },
     "execution_count": 43,
     "metadata": {},
     "output_type": "execute_result"
    }
   ],
   "source": [
    "# I want to know how many vowels are a string\n",
    "# how can I use a comprehension for that?\n",
    "\n",
    "s = 'whatever'\n",
    "\n",
    "sum([1\n",
    " for one_character in s\n",
    " if one_character in 'aeiou'])\n"
   ]
  },
  {
   "cell_type": "code",
   "execution_count": 44,
   "metadata": {},
   "outputs": [
    {
     "name": "stdout",
     "output_type": "stream",
     "text": [
      "Adidas\torange\t43\r\n",
      "Nike\tblack\t41\r\n",
      "Adidas\tblack\t39\r\n",
      "New Balance\tpink\t41\r\n",
      "Nike\twhite\t44\r\n",
      "New Balance\torange\t38\r\n",
      "Nike\tpink\t44\r\n",
      "Adidas\tpink\t44\r\n",
      "New Balance\torange\t39\r\n",
      "New Balance\tblack\t43\r\n"
     ]
    }
   ],
   "source": [
    "!head shoe-data.txt"
   ]
  },
  {
   "cell_type": "markdown",
   "metadata": {},
   "source": [
    "# Exercise: Shoe dicts\n",
    "\n",
    "`shoe-data.txt` contains 100 lines. Each line contains three fields: Brand, color, and size. Fields are separated by tabs (`'\\t'`).\n",
    "\n",
    "Use a list comprehension to turn this file into a list of dictionaries. Each line should be turned into a dict whose keys are `brand`, `color`, and `size`. The values can remain strings; don't worry about the sizes.\n",
    "\n",
    "I recommend that you write an external function that takes a string as input and returns a dict, then invoke that in your comprehension.\n",
    "\n",
    "The result will be a list of \n",
    "\n",
    "```python\n",
    "[\n",
    "    {'brand':'Adidas',\n",
    "     'color':'black',\n",
    "     'size':'45'},\n",
    "    ...\n",
    "\n",
    "]\n",
    "```"
   ]
  },
  {
   "cell_type": "code",
   "execution_count": 47,
   "metadata": {},
   "outputs": [
    {
     "data": {
      "text/plain": [
       "[['Adidas', 'orange', '43\\n'],\n",
       " ['Nike', 'black', '41\\n'],\n",
       " ['Adidas', 'black', '39\\n'],\n",
       " ['New Balance', 'pink', '41\\n'],\n",
       " ['Nike', 'white', '44\\n'],\n",
       " ['New Balance', 'orange', '38\\n'],\n",
       " ['Nike', 'pink', '44\\n'],\n",
       " ['Adidas', 'pink', '44\\n'],\n",
       " ['New Balance', 'orange', '39\\n'],\n",
       " ['New Balance', 'black', '43\\n'],\n",
       " ['New Balance', 'orange', '44\\n'],\n",
       " ['Nike', 'black', '41\\n'],\n",
       " ['Adidas', 'orange', '37\\n'],\n",
       " ['Adidas', 'black', '38\\n'],\n",
       " ['Adidas', 'pink', '41\\n'],\n",
       " ['Adidas', 'white', '36\\n'],\n",
       " ['Adidas', 'orange', '36\\n'],\n",
       " ['Nike', 'pink', '41\\n'],\n",
       " ['Adidas', 'pink', '35\\n'],\n",
       " ['New Balance', 'orange', '37\\n'],\n",
       " ['Nike', 'pink', '43\\n'],\n",
       " ['Nike', 'black', '43\\n'],\n",
       " ['Nike', 'black', '42\\n'],\n",
       " ['Nike', 'black', '35\\n'],\n",
       " ['Adidas', 'black', '41\\n'],\n",
       " ['New Balance', 'pink', '40\\n'],\n",
       " ['Adidas', 'white', '35\\n'],\n",
       " ['New Balance', 'pink', '41\\n'],\n",
       " ['New Balance', 'orange', '41\\n'],\n",
       " ['Adidas', 'orange', '40\\n'],\n",
       " ['New Balance', 'orange', '40\\n'],\n",
       " ['New Balance', 'white', '44\\n'],\n",
       " ['New Balance', 'pink', '40\\n'],\n",
       " ['Nike', 'black', '43\\n'],\n",
       " ['Nike', 'pink', '36\\n'],\n",
       " ['New Balance', 'white', '39\\n'],\n",
       " ['Nike', 'black', '42\\n'],\n",
       " ['Adidas', 'black', '41\\n'],\n",
       " ['New Balance', 'orange', '40\\n'],\n",
       " ['New Balance', 'black', '40\\n'],\n",
       " ['Nike', 'white', '37\\n'],\n",
       " ['Adidas', 'black', '39\\n'],\n",
       " ['Adidas', 'black', '40\\n'],\n",
       " ['Adidas', 'orange', '38\\n'],\n",
       " ['New Balance', 'orange', '39\\n'],\n",
       " ['Nike', 'black', '35\\n'],\n",
       " ['Adidas', 'white', '39\\n'],\n",
       " ['Nike', 'white', '37\\n'],\n",
       " ['Adidas', 'orange', '37\\n'],\n",
       " ['Adidas', 'pink', '35\\n'],\n",
       " ['New Balance', 'orange', '41\\n'],\n",
       " ['Nike', 'pink', '44\\n'],\n",
       " ['Nike', 'pink', '38\\n'],\n",
       " ['Adidas', 'black', '39\\n'],\n",
       " ['New Balance', 'white', '35\\n'],\n",
       " ['Nike', 'pink', '40\\n'],\n",
       " ['Nike', 'white', '44\\n'],\n",
       " ['Nike', 'orange', '38\\n'],\n",
       " ['Adidas', 'orange', '42\\n'],\n",
       " ['New Balance', 'orange', '43\\n'],\n",
       " ['Adidas', 'pink', '39\\n'],\n",
       " ['Adidas', 'pink', '41\\n'],\n",
       " ['Adidas', 'pink', '39\\n'],\n",
       " ['Nike', 'white', '37\\n'],\n",
       " ['Nike', 'orange', '38\\n'],\n",
       " ['Adidas', 'orange', '39\\n'],\n",
       " ['Nike', 'pink', '40\\n'],\n",
       " ['Adidas', 'white', '36\\n'],\n",
       " ['Nike', 'orange', '40\\n'],\n",
       " ['New Balance', 'pink', '40\\n'],\n",
       " ['New Balance', 'black', '40\\n'],\n",
       " ['New Balance', 'pink', '40\\n'],\n",
       " ['Adidas', 'pink', '41\\n'],\n",
       " ['Nike', 'pink', '40\\n'],\n",
       " ['Nike', 'black', '41\\n'],\n",
       " ['Nike', 'black', '39\\n'],\n",
       " ['New Balance', 'white', '38\\n'],\n",
       " ['Adidas', 'black', '41\\n'],\n",
       " ['Nike', 'orange', '36\\n'],\n",
       " ['Nike', 'black', '38\\n'],\n",
       " ['New Balance', 'black', '40\\n'],\n",
       " ['New Balance', 'pink', '40\\n'],\n",
       " ['Adidas', 'black', '42\\n'],\n",
       " ['Adidas', 'white', '40\\n'],\n",
       " ['New Balance', 'orange', '38\\n'],\n",
       " ['Nike', 'pink', '41\\n'],\n",
       " ['Adidas', 'orange', '37\\n'],\n",
       " ['Nike', 'black', '44\\n'],\n",
       " ['Adidas', 'pink', '36\\n'],\n",
       " ['Adidas', 'white', '35\\n'],\n",
       " ['Nike', 'black', '38\\n'],\n",
       " ['Nike', 'pink', '42\\n'],\n",
       " ['New Balance', 'black', '43\\n'],\n",
       " ['Nike', 'white', '38\\n'],\n",
       " ['New Balance', 'pink', '39\\n'],\n",
       " ['Nike', 'orange', '39\\n'],\n",
       " ['New Balance', 'orange', '40\\n'],\n",
       " ['New Balance', 'white', '44\\n'],\n",
       " ['Adidas', 'black', '42\\n'],\n",
       " ['Nike', 'black', '35\\n']]"
      ]
     },
     "execution_count": 47,
     "metadata": {},
     "output_type": "execute_result"
    }
   ],
   "source": [
    "# a simple (not working) approach\n",
    "\n",
    "def line_to_dict(one_line):\n",
    "    return one_line.split('\\t')\n",
    "\n",
    "[line_to_dict(one_line)\n",
    " for one_line in open('shoe-data.txt')]"
   ]
  },
  {
   "cell_type": "code",
   "execution_count": null,
   "metadata": {},
   "outputs": [],
   "source": [
    "# a simple working\n",
    "\n",
    "def line_to_dict(one_line):\n",
    "    fields = one_line.split('\\t')\n",
    "    \n",
    "    return {'brand':fields[0],\n",
    "           'c'}\n",
    "\n",
    "[line_to_dict(one_line)\n",
    " for one_line in open('shoe-data.txt')]"
   ]
  }
 ],
 "metadata": {
  "kernelspec": {
   "display_name": "Python 3 (ipykernel)",
   "language": "python",
   "name": "python3"
  },
  "language_info": {
   "codemirror_mode": {
    "name": "ipython",
    "version": 3
   },
   "file_extension": ".py",
   "mimetype": "text/x-python",
   "name": "python",
   "nbconvert_exporter": "python",
   "pygments_lexer": "ipython3",
   "version": "3.11.3"
  }
 },
 "nbformat": 4,
 "nbformat_minor": 4
}
